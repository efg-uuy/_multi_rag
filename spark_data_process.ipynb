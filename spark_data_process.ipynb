{
 "cells": [
  {
   "cell_type": "markdown",
   "id": "860c4566",
   "metadata": {},
   "source": [
    "# 用于处理多模态RAG图文问答挑战赛训练集JSON文件，提取问题与答案构建QA对\n",
    "本notebook将演示如何将原始训练集转换为标准QA格式，便于后续微调。"
   ]
  },
  {
   "cell_type": "code",
   "execution_count": 1,
   "id": "b4b72abf",
   "metadata": {},
   "outputs": [],
   "source": "#"
  },
  {
   "metadata": {},
   "cell_type": "code",
   "outputs": [],
   "execution_count": null,
   "source": [
    "import json\n",
    "import os\n",
    "import pandas as pd\n",
    "\n",
    "def is_answer_consistent(question, answer):\n",
    "    \"\"\"校验同一问题答案的一致性（示例逻辑，需根据实际场景完善）\"\"\"\n",
    "    # 实际场景可通过哈希、语义相似度等方式实现\n",
    "    return True  # 此处为示例，默认通过校验\n",
    "\n",
    "def build_finance_sft_data(raw_data):\n",
    "    \"\"\"构建符合金融任务规范的SFT数据\"\"\"\n",
    "    sft_data = []\n",
    "    for item in raw_data:\n",
    "        # 1. 明确金融助手角色定位\n",
    "        system_prompt = \"你是专业金融分析师助手，需基于研报、财报等金融文档内容回答，严格区分事实与观点，遵循金融术语规范\"\n",
    "\n",
    "        # 2. 标注任务类型（信息提取/逻辑分析/术语解读等）\n",
    "        task_type = \"金融问答\"  # 可根据实际数据字段细化\n",
    "        if \"提取\" in item.get(\"question\", \"\"):\n",
    "            task_type = \"信息提取\"\n",
    "        elif \"分析\" in item.get(\"question\", \"\"):\n",
    "            task_type = \"逻辑分析\"\n",
    "        elif \"解释\" in item.get(\"question\", \"\"):\n",
    "            task_type = \"术语解读\"\n",
    "\n",
    "        # 3. 答案冲突校验\n",
    "        if not is_answer_consistent(item.get(\"question\", \"\"), item.get(\"answer\", \"\")):\n",
    "            continue\n",
    "\n",
    "        sft_data.append({\n",
    "            \"system\": system_prompt,\n",
    "            \"instruction\": item.get(\"question\", \"\"),\n",
    "            \"output\": item.get(\"answer\", \"\"),\n",
    "            \"task_type\": task_type,\n",
    "            \"metadata\": {  # 补充金融场景元数据\n",
    "                \"file_name\": item.get(\"file_name\", \"未知\"),\n",
    "                \"page\": item.get(\"page\", \"未知\")\n",
    "            }\n",
    "        })\n",
    "    return sft_data\n",
    "\n",
    "def main():\n",
    "    # 1. 加载原始JSON数据集\n",
    "    data_path = \"spark_multi_rag/datas/多模态RAG图文问答挑战赛训练集.json\"\n",
    "    with open(data_path, \"r\", encoding=\"utf-8\") as f:\n",
    "        raw_data = json.load(f)\n",
    "    print(f\"原始样本数量: {len(raw_data)}\")\n",
    "    print(\"示例原始样本:\", raw_data[0])\n",
    "\n",
    "    # 2. 构建金融SFT数据\n",
    "    finance_sft_data = build_finance_sft_data(raw_data)\n",
    "    print(f\"处理后SFT样本数量: {len(finance_sft_data)}\")\n",
    "    print(\"示例SFT样本:\", finance_sft_data[0] if finance_sft_data else \"无有效样本\")\n",
    "\n",
    "    # 3. 保存处理后的数据\n",
    "    sft_json_path = \"spark_multi_rag/datas/finance_sft_train.json\"\n",
    "    with open(sft_json_path, \"w\", encoding=\"utf-8\") as f:\n",
    "        json.dump(finance_sft_data, f, ensure_ascii=False, indent=2)\n",
    "    print(f\"已保存金融SFT JSON文件: {sft_json_path}\")\n",
    "\n",
    "    # 4. 保存为CSV格式（便于分析）\n",
    "    sft_df = pd.DataFrame(finance_sft_data)\n",
    "    sft_csv_path = \"spark_multi_rag/datas/finance_sft_train.csv\"\n",
    "    sft_df.to_csv(sft_csv_path, index=False, encoding=\"utf-8\")\n",
    "    print(f\"已保存金融SFT CSV文件: {sft_csv_path}\")\n",
    "\n",
    "if __name__ == \"__main__\":\n",
    "    main()"
   ],
   "id": "1497c97b9e5cd88a"
  },
  {
   "cell_type": "markdown",
   "id": "c4f53530",
   "metadata": {},
   "source": [
    "## 2. 加载JSON数据集\n",
    "读取多模态RAG图文问答挑战赛训练集.json文件，解析为Python对象。"
   ]
  },
  {
   "cell_type": "markdown",
   "id": "edf8a438",
   "metadata": {},
   "source": [
    "## 4. 构建QA对列表\n",
    "遍历数据集，将每条数据的question和answer字段提取出来，构建QA对列表。指令字段统一设置为“你是一名专业的财报数据问答助手”。"
   ]
  },
  {
   "cell_type": "markdown",
   "id": "0ef5f6cf",
   "metadata": {},
   "source": [
    "## 5. 保存处理后的QA数据\n",
    "将处理后的QA对列表保存为新的JSON或CSV文件，便于后续模型训练或分析。"
   ]
  },
  {
   "cell_type": "code",
   "execution_count": null,
   "id": "13474168",
   "metadata": {},
   "outputs": [],
   "source": []
  }
 ],
 "metadata": {
  "kernelspec": {
   "display_name": "unsloth",
   "language": "python",
   "name": "python3"
  },
  "language_info": {
   "codemirror_mode": {
    "name": "ipython",
    "version": 3
   },
   "file_extension": ".py",
   "mimetype": "text/x-python",
   "name": "python",
   "nbconvert_exporter": "python",
   "pygments_lexer": "ipython3",
   "version": "3.10.18"
  }
 },
 "nbformat": 4,
 "nbformat_minor": 5
}
